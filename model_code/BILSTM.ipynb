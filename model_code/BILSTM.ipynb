{
 "cells": [
  {
   "cell_type": "code",
   "execution_count": 5,
   "id": "79d36809",
   "metadata": {},
   "outputs": [
    {
     "name": "stdout",
     "output_type": "stream",
     "text": [
      "Requirement already satisfied: numpy==1.24.4 in c:\\users\\qiuji\\anaconda3\\lib\\site-packages (1.24.4)\n"
     ]
    },
    {
     "name": "stderr",
     "output_type": "stream",
     "text": [
      "WARNING: Ignoring invalid distribution -umpy (c:\\users\\qiuji\\anaconda3\\lib\\site-packages)\n",
      "WARNING: Ignoring invalid distribution -rotobuf (c:\\users\\qiuji\\anaconda3\\lib\\site-packages)\n",
      "WARNING: Ignoring invalid distribution -umpy (c:\\users\\qiuji\\anaconda3\\lib\\site-packages)\n",
      "WARNING: Ignoring invalid distribution -rotobuf (c:\\users\\qiuji\\anaconda3\\lib\\site-packages)\n",
      "WARNING: Ignoring invalid distribution -umpy (c:\\users\\qiuji\\anaconda3\\lib\\site-packages)\n",
      "WARNING: Ignoring invalid distribution -rotobuf (c:\\users\\qiuji\\anaconda3\\lib\\site-packages)\n",
      "WARNING: Ignoring invalid distribution -umpy (c:\\users\\qiuji\\anaconda3\\lib\\site-packages)\n",
      "WARNING: Ignoring invalid distribution -rotobuf (c:\\users\\qiuji\\anaconda3\\lib\\site-packages)\n",
      "WARNING: Ignoring invalid distribution -umpy (c:\\users\\qiuji\\anaconda3\\lib\\site-packages)\n",
      "WARNING: Ignoring invalid distribution -rotobuf (c:\\users\\qiuji\\anaconda3\\lib\\site-packages)\n",
      "WARNING: Ignoring invalid distribution -umpy (c:\\users\\qiuji\\anaconda3\\lib\\site-packages)\n",
      "WARNING: Ignoring invalid distribution -rotobuf (c:\\users\\qiuji\\anaconda3\\lib\\site-packages)\n"
     ]
    },
    {
     "name": "stdout",
     "output_type": "stream",
     "text": [
      "Collecting pandas==1.4.4\n",
      "  Downloading pandas-1.4.4-cp39-cp39-win_amd64.whl (10.6 MB)\n",
      "     --------------------------------------- 10.6/10.6 MB 15.6 MB/s eta 0:00:00\n",
      "Requirement already satisfied: python-dateutil>=2.8.1 in c:\\users\\qiuji\\anaconda3\\lib\\site-packages (from pandas==1.4.4) (2.8.2)\n",
      "Requirement already satisfied: numpy>=1.18.5 in c:\\users\\qiuji\\anaconda3\\lib\\site-packages (from pandas==1.4.4) (1.24.4)\n",
      "Requirement already satisfied: pytz>=2020.1 in c:\\users\\qiuji\\anaconda3\\lib\\site-packages (from pandas==1.4.4) (2022.1)\n",
      "Requirement already satisfied: six>=1.5 in c:\\users\\qiuji\\anaconda3\\lib\\site-packages (from python-dateutil>=2.8.1->pandas==1.4.4) (1.16.0)\n",
      "Installing collected packages: pandas\n",
      "  Attempting uninstall: pandas\n",
      "    Found existing installation: pandas 2.1.1\n",
      "    Uninstalling pandas-2.1.1:\n",
      "      Successfully uninstalled pandas-2.1.1\n",
      "Successfully installed pandas-1.4.4\n"
     ]
    },
    {
     "name": "stderr",
     "output_type": "stream",
     "text": [
      "WARNING: Ignoring invalid distribution -umpy (c:\\users\\qiuji\\anaconda3\\lib\\site-packages)\n",
      "WARNING: Ignoring invalid distribution -rotobuf (c:\\users\\qiuji\\anaconda3\\lib\\site-packages)\n",
      "WARNING: Ignoring invalid distribution -umpy (c:\\users\\qiuji\\anaconda3\\lib\\site-packages)\n",
      "WARNING: Ignoring invalid distribution -rotobuf (c:\\users\\qiuji\\anaconda3\\lib\\site-packages)\n",
      "WARNING: Ignoring invalid distribution -umpy (c:\\users\\qiuji\\anaconda3\\lib\\site-packages)\n",
      "WARNING: Ignoring invalid distribution -rotobuf (c:\\users\\qiuji\\anaconda3\\lib\\site-packages)\n",
      "    WARNING: Ignoring invalid distribution -umpy (c:\\users\\qiuji\\anaconda3\\lib\\site-packages)\n",
      "    WARNING: Ignoring invalid distribution -rotobuf (c:\\users\\qiuji\\anaconda3\\lib\\site-packages)\n",
      "WARNING: Ignoring invalid distribution -umpy (c:\\users\\qiuji\\anaconda3\\lib\\site-packages)\n",
      "WARNING: Ignoring invalid distribution -rotobuf (c:\\users\\qiuji\\anaconda3\\lib\\site-packages)\n",
      "WARNING: Ignoring invalid distribution -umpy (c:\\users\\qiuji\\anaconda3\\lib\\site-packages)\n",
      "WARNING: Ignoring invalid distribution -rotobuf (c:\\users\\qiuji\\anaconda3\\lib\\site-packages)\n",
      "WARNING: Ignoring invalid distribution -umpy (c:\\users\\qiuji\\anaconda3\\lib\\site-packages)\n",
      "WARNING: Ignoring invalid distribution -rotobuf (c:\\users\\qiuji\\anaconda3\\lib\\site-packages)\n",
      "WARNING: Ignoring invalid distribution -umpy (c:\\users\\qiuji\\anaconda3\\lib\\site-packages)\n",
      "WARNING: Ignoring invalid distribution -rotobuf (c:\\users\\qiuji\\anaconda3\\lib\\site-packages)\n"
     ]
    },
    {
     "name": "stdout",
     "output_type": "stream",
     "text": [
      "Requirement already satisfied: matplotlib==3.5.2 in c:\\users\\qiuji\\anaconda3\\lib\\site-packages (3.5.2)\n",
      "Requirement already satisfied: numpy>=1.17 in c:\\users\\qiuji\\anaconda3\\lib\\site-packages (from matplotlib==3.5.2) (1.24.4)\n",
      "Requirement already satisfied: python-dateutil>=2.7 in c:\\users\\qiuji\\anaconda3\\lib\\site-packages (from matplotlib==3.5.2) (2.8.2)\n",
      "Requirement already satisfied: cycler>=0.10 in c:\\users\\qiuji\\anaconda3\\lib\\site-packages (from matplotlib==3.5.2) (0.11.0)\n",
      "Requirement already satisfied: kiwisolver>=1.0.1 in c:\\users\\qiuji\\anaconda3\\lib\\site-packages (from matplotlib==3.5.2) (1.4.2)\n",
      "Requirement already satisfied: pyparsing>=2.2.1 in c:\\users\\qiuji\\anaconda3\\lib\\site-packages (from matplotlib==3.5.2) (3.0.9)\n",
      "Requirement already satisfied: pillow>=6.2.0 in c:\\users\\qiuji\\anaconda3\\lib\\site-packages (from matplotlib==3.5.2) (9.2.0)\n",
      "Requirement already satisfied: fonttools>=4.22.0 in c:\\users\\qiuji\\anaconda3\\lib\\site-packages (from matplotlib==3.5.2) (4.25.0)\n",
      "Requirement already satisfied: packaging>=20.0 in c:\\users\\qiuji\\anaconda3\\lib\\site-packages (from matplotlib==3.5.2) (21.3)\n",
      "Requirement already satisfied: six>=1.5 in c:\\users\\qiuji\\anaconda3\\lib\\site-packages (from python-dateutil>=2.7->matplotlib==3.5.2) (1.16.0)\n"
     ]
    },
    {
     "name": "stderr",
     "output_type": "stream",
     "text": [
      "WARNING: Ignoring invalid distribution -umpy (c:\\users\\qiuji\\anaconda3\\lib\\site-packages)\n",
      "WARNING: Ignoring invalid distribution -rotobuf (c:\\users\\qiuji\\anaconda3\\lib\\site-packages)\n",
      "WARNING: Ignoring invalid distribution -umpy (c:\\users\\qiuji\\anaconda3\\lib\\site-packages)\n",
      "WARNING: Ignoring invalid distribution -rotobuf (c:\\users\\qiuji\\anaconda3\\lib\\site-packages)\n",
      "WARNING: Ignoring invalid distribution -umpy (c:\\users\\qiuji\\anaconda3\\lib\\site-packages)\n",
      "WARNING: Ignoring invalid distribution -rotobuf (c:\\users\\qiuji\\anaconda3\\lib\\site-packages)\n",
      "WARNING: Ignoring invalid distribution -umpy (c:\\users\\qiuji\\anaconda3\\lib\\site-packages)\n",
      "WARNING: Ignoring invalid distribution -rotobuf (c:\\users\\qiuji\\anaconda3\\lib\\site-packages)\n",
      "WARNING: Ignoring invalid distribution -umpy (c:\\users\\qiuji\\anaconda3\\lib\\site-packages)\n",
      "WARNING: Ignoring invalid distribution -rotobuf (c:\\users\\qiuji\\anaconda3\\lib\\site-packages)\n",
      "WARNING: Ignoring invalid distribution -umpy (c:\\users\\qiuji\\anaconda3\\lib\\site-packages)\n",
      "WARNING: Ignoring invalid distribution -rotobuf (c:\\users\\qiuji\\anaconda3\\lib\\site-packages)\n",
      "WARNING: Ignoring invalid distribution -umpy (c:\\users\\qiuji\\anaconda3\\lib\\site-packages)\n",
      "WARNING: Ignoring invalid distribution -rotobuf (c:\\users\\qiuji\\anaconda3\\lib\\site-packages)\n",
      "WARNING: Ignoring invalid distribution -umpy (c:\\users\\qiuji\\anaconda3\\lib\\site-packages)\n",
      "WARNING: Ignoring invalid distribution -rotobuf (c:\\users\\qiuji\\anaconda3\\lib\\site-packages)\n",
      "ERROR: Could not find a version that satisfies the requirement sklearn==1.0.2 (from versions: 0.0, 0.0.post1, 0.0.post2, 0.0.post4, 0.0.post5, 0.0.post7, 0.0.post9, 0.0.post10, 0.0.post11, 0.0.post12)\n",
      "ERROR: No matching distribution found for sklearn==1.0.2\n",
      "WARNING: Ignoring invalid distribution -umpy (c:\\users\\qiuji\\anaconda3\\lib\\site-packages)\n",
      "WARNING: Ignoring invalid distribution -rotobuf (c:\\users\\qiuji\\anaconda3\\lib\\site-packages)\n",
      "WARNING: Ignoring invalid distribution -umpy (c:\\users\\qiuji\\anaconda3\\lib\\site-packages)\n",
      "WARNING: Ignoring invalid distribution -rotobuf (c:\\users\\qiuji\\anaconda3\\lib\\site-packages)\n",
      "WARNING: Ignoring invalid distribution -umpy (c:\\users\\qiuji\\anaconda3\\lib\\site-packages)\n",
      "WARNING: Ignoring invalid distribution -rotobuf (c:\\users\\qiuji\\anaconda3\\lib\\site-packages)\n"
     ]
    },
    {
     "name": "stdout",
     "output_type": "stream",
     "text": [
      "Requirement already satisfied: tensorflow==2.10.0 in c:\\users\\qiuji\\anaconda3\\lib\\site-packages (2.10.0)\n",
      "Requirement already satisfied: typing-extensions>=3.6.6 in c:\\users\\qiuji\\anaconda3\\lib\\site-packages (from tensorflow==2.10.0) (4.3.0)\n",
      "Requirement already satisfied: gast<=0.4.0,>=0.2.1 in c:\\users\\qiuji\\anaconda3\\lib\\site-packages (from tensorflow==2.10.0) (0.4.0)\n",
      "Requirement already satisfied: packaging in c:\\users\\qiuji\\anaconda3\\lib\\site-packages (from tensorflow==2.10.0) (21.3)\n",
      "Requirement already satisfied: opt-einsum>=2.3.2 in c:\\users\\qiuji\\anaconda3\\lib\\site-packages (from tensorflow==2.10.0) (3.3.0)\n",
      "Requirement already satisfied: astunparse>=1.6.0 in c:\\users\\qiuji\\anaconda3\\lib\\site-packages (from tensorflow==2.10.0) (1.6.3)\n",
      "Requirement already satisfied: tensorflow-estimator<2.11,>=2.10.0 in c:\\users\\qiuji\\anaconda3\\lib\\site-packages (from tensorflow==2.10.0) (2.10.0)\n",
      "Requirement already satisfied: keras<2.11,>=2.10.0 in c:\\users\\qiuji\\anaconda3\\lib\\site-packages (from tensorflow==2.10.0) (2.10.0)\n",
      "Requirement already satisfied: libclang>=13.0.0 in c:\\users\\qiuji\\anaconda3\\lib\\site-packages (from tensorflow==2.10.0) (16.0.6)\n",
      "Requirement already satisfied: grpcio<2.0,>=1.24.3 in c:\\users\\qiuji\\anaconda3\\lib\\site-packages (from tensorflow==2.10.0) (1.59.0)\n",
      "Requirement already satisfied: tensorboard<2.11,>=2.10 in c:\\users\\qiuji\\anaconda3\\lib\\site-packages (from tensorflow==2.10.0) (2.10.1)\n",
      "Requirement already satisfied: wrapt>=1.11.0 in c:\\users\\qiuji\\anaconda3\\lib\\site-packages (from tensorflow==2.10.0) (1.14.1)\n",
      "Requirement already satisfied: protobuf<3.20,>=3.9.2 in c:\\users\\qiuji\\anaconda3\\lib\\site-packages (from tensorflow==2.10.0) (3.19.6)\n",
      "Requirement already satisfied: google-pasta>=0.1.1 in c:\\users\\qiuji\\anaconda3\\lib\\site-packages (from tensorflow==2.10.0) (0.2.0)\n",
      "Requirement already satisfied: absl-py>=1.0.0 in c:\\users\\qiuji\\anaconda3\\lib\\site-packages (from tensorflow==2.10.0) (2.0.0)\n",
      "Requirement already satisfied: six>=1.12.0 in c:\\users\\qiuji\\anaconda3\\lib\\site-packages (from tensorflow==2.10.0) (1.16.0)\n",
      "Requirement already satisfied: flatbuffers>=2.0 in c:\\users\\qiuji\\anaconda3\\lib\\site-packages (from tensorflow==2.10.0) (23.5.26)\n",
      "Requirement already satisfied: numpy>=1.20 in c:\\users\\qiuji\\anaconda3\\lib\\site-packages (from tensorflow==2.10.0) (1.24.4)\n",
      "Requirement already satisfied: h5py>=2.9.0 in c:\\users\\qiuji\\anaconda3\\lib\\site-packages (from tensorflow==2.10.0) (3.7.0)\n",
      "Requirement already satisfied: setuptools in c:\\users\\qiuji\\anaconda3\\lib\\site-packages (from tensorflow==2.10.0) (69.1.0)\n",
      "Requirement already satisfied: tensorflow-io-gcs-filesystem>=0.23.1 in c:\\users\\qiuji\\anaconda3\\lib\\site-packages (from tensorflow==2.10.0) (0.31.0)\n",
      "Requirement already satisfied: termcolor>=1.1.0 in c:\\users\\qiuji\\anaconda3\\lib\\site-packages (from tensorflow==2.10.0) (2.3.0)\n",
      "Requirement already satisfied: keras-preprocessing>=1.1.1 in c:\\users\\qiuji\\anaconda3\\lib\\site-packages (from tensorflow==2.10.0) (1.1.2)\n",
      "Requirement already satisfied: wheel<1.0,>=0.23.0 in c:\\users\\qiuji\\anaconda3\\lib\\site-packages (from astunparse>=1.6.0->tensorflow==2.10.0) (0.37.1)\n",
      "Requirement already satisfied: werkzeug>=1.0.1 in c:\\users\\qiuji\\anaconda3\\lib\\site-packages (from tensorboard<2.11,>=2.10->tensorflow==2.10.0) (2.0.3)\n",
      "Requirement already satisfied: google-auth-oauthlib<0.5,>=0.4.1 in c:\\users\\qiuji\\anaconda3\\lib\\site-packages (from tensorboard<2.11,>=2.10->tensorflow==2.10.0) (0.4.6)\n",
      "Requirement already satisfied: requests<3,>=2.21.0 in c:\\users\\qiuji\\anaconda3\\lib\\site-packages (from tensorboard<2.11,>=2.10->tensorflow==2.10.0) (2.28.1)\n",
      "Requirement already satisfied: tensorboard-plugin-wit>=1.6.0 in c:\\users\\qiuji\\anaconda3\\lib\\site-packages (from tensorboard<2.11,>=2.10->tensorflow==2.10.0) (1.8.1)\n",
      "Requirement already satisfied: markdown>=2.6.8 in c:\\users\\qiuji\\anaconda3\\lib\\site-packages (from tensorboard<2.11,>=2.10->tensorflow==2.10.0) (3.3.4)\n",
      "Requirement already satisfied: tensorboard-data-server<0.7.0,>=0.6.0 in c:\\users\\qiuji\\anaconda3\\lib\\site-packages (from tensorboard<2.11,>=2.10->tensorflow==2.10.0) (0.6.1)\n",
      "Requirement already satisfied: google-auth<3,>=1.6.3 in c:\\users\\qiuji\\anaconda3\\lib\\site-packages (from tensorboard<2.11,>=2.10->tensorflow==2.10.0) (2.23.3)\n",
      "Requirement already satisfied: pyparsing!=3.0.5,>=2.0.2 in c:\\users\\qiuji\\anaconda3\\lib\\site-packages (from packaging->tensorflow==2.10.0) (3.0.9)\n",
      "Requirement already satisfied: rsa<5,>=3.1.4 in c:\\users\\qiuji\\anaconda3\\lib\\site-packages (from google-auth<3,>=1.6.3->tensorboard<2.11,>=2.10->tensorflow==2.10.0) (4.9)\n",
      "Requirement already satisfied: pyasn1-modules>=0.2.1 in c:\\users\\qiuji\\anaconda3\\lib\\site-packages (from google-auth<3,>=1.6.3->tensorboard<2.11,>=2.10->tensorflow==2.10.0) (0.2.8)\n",
      "Requirement already satisfied: cachetools<6.0,>=2.0.0 in c:\\users\\qiuji\\anaconda3\\lib\\site-packages (from google-auth<3,>=1.6.3->tensorboard<2.11,>=2.10->tensorflow==2.10.0) (5.3.1)\n",
      "Requirement already satisfied: requests-oauthlib>=0.7.0 in c:\\users\\qiuji\\anaconda3\\lib\\site-packages (from google-auth-oauthlib<0.5,>=0.4.1->tensorboard<2.11,>=2.10->tensorflow==2.10.0) (1.3.1)\n",
      "Requirement already satisfied: idna<4,>=2.5 in c:\\users\\qiuji\\anaconda3\\lib\\site-packages (from requests<3,>=2.21.0->tensorboard<2.11,>=2.10->tensorflow==2.10.0) (3.3)\n",
      "Requirement already satisfied: charset-normalizer<3,>=2 in c:\\users\\qiuji\\anaconda3\\lib\\site-packages (from requests<3,>=2.21.0->tensorboard<2.11,>=2.10->tensorflow==2.10.0) (2.0.4)\n",
      "Requirement already satisfied: urllib3<1.27,>=1.21.1 in c:\\users\\qiuji\\anaconda3\\lib\\site-packages (from requests<3,>=2.21.0->tensorboard<2.11,>=2.10->tensorflow==2.10.0) (1.26.11)\n",
      "Requirement already satisfied: certifi>=2017.4.17 in c:\\users\\qiuji\\anaconda3\\lib\\site-packages (from requests<3,>=2.21.0->tensorboard<2.11,>=2.10->tensorflow==2.10.0) (2023.7.22)\n",
      "Requirement already satisfied: pyasn1<0.5.0,>=0.4.6 in c:\\users\\qiuji\\anaconda3\\lib\\site-packages (from pyasn1-modules>=0.2.1->google-auth<3,>=1.6.3->tensorboard<2.11,>=2.10->tensorflow==2.10.0) (0.4.8)\n",
      "Requirement already satisfied: oauthlib>=3.0.0 in c:\\users\\qiuji\\anaconda3\\lib\\site-packages (from requests-oauthlib>=0.7.0->google-auth-oauthlib<0.5,>=0.4.1->tensorboard<2.11,>=2.10->tensorflow==2.10.0) (3.2.2)\n"
     ]
    },
    {
     "name": "stderr",
     "output_type": "stream",
     "text": [
      "WARNING: Ignoring invalid distribution -umpy (c:\\users\\qiuji\\anaconda3\\lib\\site-packages)\n",
      "WARNING: Ignoring invalid distribution -rotobuf (c:\\users\\qiuji\\anaconda3\\lib\\site-packages)\n",
      "WARNING: Ignoring invalid distribution -umpy (c:\\users\\qiuji\\anaconda3\\lib\\site-packages)\n",
      "WARNING: Ignoring invalid distribution -rotobuf (c:\\users\\qiuji\\anaconda3\\lib\\site-packages)\n",
      "WARNING: Ignoring invalid distribution -umpy (c:\\users\\qiuji\\anaconda3\\lib\\site-packages)\n",
      "WARNING: Ignoring invalid distribution -rotobuf (c:\\users\\qiuji\\anaconda3\\lib\\site-packages)\n",
      "WARNING: Ignoring invalid distribution -umpy (c:\\users\\qiuji\\anaconda3\\lib\\site-packages)\n",
      "WARNING: Ignoring invalid distribution -rotobuf (c:\\users\\qiuji\\anaconda3\\lib\\site-packages)\n",
      "WARNING: Ignoring invalid distribution -umpy (c:\\users\\qiuji\\anaconda3\\lib\\site-packages)\n",
      "WARNING: Ignoring invalid distribution -rotobuf (c:\\users\\qiuji\\anaconda3\\lib\\site-packages)\n",
      "WARNING: Ignoring invalid distribution -umpy (c:\\users\\qiuji\\anaconda3\\lib\\site-packages)\n",
      "WARNING: Ignoring invalid distribution -rotobuf (c:\\users\\qiuji\\anaconda3\\lib\\site-packages)\n"
     ]
    }
   ],
   "source": [
    "!pip install numpy==1.24.4\n",
    "!pip install pandas==1.4.4\n",
    "!pip install matplotlib==3.5.2\n",
    "!pip install sklearn==1.0.2\n",
    "!pip install tensorflow==2.10.0"
   ]
  },
  {
   "cell_type": "code",
   "execution_count": 1,
   "id": "86645b0d",
   "metadata": {},
   "outputs": [
    {
     "name": "stdout",
     "output_type": "stream",
     "text": [
      "Requirement already satisfied: tensorflow==2.10.0 in c:\\users\\qiuji\\anaconda3\\lib\\site-packages (2.10.0)\n",
      "Requirement already satisfied: tensorflow-estimator<2.11,>=2.10.0 in c:\\users\\qiuji\\anaconda3\\lib\\site-packages (from tensorflow==2.10.0) (2.10.0)\n",
      "Requirement already satisfied: keras<2.11,>=2.10.0 in c:\\users\\qiuji\\anaconda3\\lib\\site-packages (from tensorflow==2.10.0) (2.10.0)\n",
      "Requirement already satisfied: keras-preprocessing>=1.1.1 in c:\\users\\qiuji\\anaconda3\\lib\\site-packages (from tensorflow==2.10.0) (1.1.2)\n",
      "Requirement already satisfied: setuptools in c:\\users\\qiuji\\anaconda3\\lib\\site-packages (from tensorflow==2.10.0) (69.1.0)\n",
      "Requirement already satisfied: opt-einsum>=2.3.2 in c:\\users\\qiuji\\anaconda3\\lib\\site-packages (from tensorflow==2.10.0) (3.3.0)\n",
      "Requirement already satisfied: protobuf<3.20,>=3.9.2 in c:\\users\\qiuji\\anaconda3\\lib\\site-packages (from tensorflow==2.10.0) (3.19.6)\n",
      "Requirement already satisfied: google-pasta>=0.1.1 in c:\\users\\qiuji\\anaconda3\\lib\\site-packages (from tensorflow==2.10.0) (0.2.0)\n",
      "Requirement already satisfied: six>=1.12.0 in c:\\users\\qiuji\\anaconda3\\lib\\site-packages (from tensorflow==2.10.0) (1.16.0)\n",
      "Requirement already satisfied: grpcio<2.0,>=1.24.3 in c:\\users\\qiuji\\anaconda3\\lib\\site-packages (from tensorflow==2.10.0) (1.59.0)\n",
      "Requirement already satisfied: tensorboard<2.11,>=2.10 in c:\\users\\qiuji\\anaconda3\\lib\\site-packages (from tensorflow==2.10.0) (2.10.1)\n",
      "Requirement already satisfied: tensorflow-io-gcs-filesystem>=0.23.1 in c:\\users\\qiuji\\anaconda3\\lib\\site-packages (from tensorflow==2.10.0) (0.31.0)\n",
      "Requirement already satisfied: numpy>=1.20 in c:\\users\\qiuji\\anaconda3\\lib\\site-packages (from tensorflow==2.10.0) (1.24.4)\n",
      "Requirement already satisfied: libclang>=13.0.0 in c:\\users\\qiuji\\anaconda3\\lib\\site-packages (from tensorflow==2.10.0) (16.0.6)\n",
      "Requirement already satisfied: flatbuffers>=2.0 in c:\\users\\qiuji\\anaconda3\\lib\\site-packages (from tensorflow==2.10.0) (23.5.26)\n",
      "Requirement already satisfied: astunparse>=1.6.0 in c:\\users\\qiuji\\anaconda3\\lib\\site-packages (from tensorflow==2.10.0) (1.6.3)\n",
      "Requirement already satisfied: wrapt>=1.11.0 in c:\\users\\qiuji\\anaconda3\\lib\\site-packages (from tensorflow==2.10.0) (1.14.1)\n",
      "Requirement already satisfied: absl-py>=1.0.0 in c:\\users\\qiuji\\anaconda3\\lib\\site-packages (from tensorflow==2.10.0) (2.0.0)\n",
      "Requirement already satisfied: h5py>=2.9.0 in c:\\users\\qiuji\\anaconda3\\lib\\site-packages (from tensorflow==2.10.0) (3.7.0)\n",
      "Requirement already satisfied: packaging in c:\\users\\qiuji\\anaconda3\\lib\\site-packages (from tensorflow==2.10.0) (21.3)\n",
      "Requirement already satisfied: typing-extensions>=3.6.6 in c:\\users\\qiuji\\anaconda3\\lib\\site-packages (from tensorflow==2.10.0) (4.3.0)\n",
      "Requirement already satisfied: gast<=0.4.0,>=0.2.1 in c:\\users\\qiuji\\anaconda3\\lib\\site-packages (from tensorflow==2.10.0) (0.4.0)\n",
      "Requirement already satisfied: termcolor>=1.1.0 in c:\\users\\qiuji\\anaconda3\\lib\\site-packages (from tensorflow==2.10.0) (2.3.0)\n",
      "Requirement already satisfied: wheel<1.0,>=0.23.0 in c:\\users\\qiuji\\anaconda3\\lib\\site-packages (from astunparse>=1.6.0->tensorflow==2.10.0) (0.37.1)\n",
      "Requirement already satisfied: werkzeug>=1.0.1 in c:\\users\\qiuji\\anaconda3\\lib\\site-packages (from tensorboard<2.11,>=2.10->tensorflow==2.10.0) (2.0.3)\n",
      "Requirement already satisfied: tensorboard-data-server<0.7.0,>=0.6.0 in c:\\users\\qiuji\\anaconda3\\lib\\site-packages (from tensorboard<2.11,>=2.10->tensorflow==2.10.0) (0.6.1)\n",
      "Requirement already satisfied: google-auth-oauthlib<0.5,>=0.4.1 in c:\\users\\qiuji\\anaconda3\\lib\\site-packages (from tensorboard<2.11,>=2.10->tensorflow==2.10.0) (0.4.6)\n",
      "Requirement already satisfied: google-auth<3,>=1.6.3 in c:\\users\\qiuji\\anaconda3\\lib\\site-packages (from tensorboard<2.11,>=2.10->tensorflow==2.10.0) (2.23.3)\n",
      "Requirement already satisfied: tensorboard-plugin-wit>=1.6.0 in c:\\users\\qiuji\\anaconda3\\lib\\site-packages (from tensorboard<2.11,>=2.10->tensorflow==2.10.0) (1.8.1)\n",
      "Requirement already satisfied: requests<3,>=2.21.0 in c:\\users\\qiuji\\anaconda3\\lib\\site-packages (from tensorboard<2.11,>=2.10->tensorflow==2.10.0) (2.28.1)\n",
      "Requirement already satisfied: markdown>=2.6.8 in c:\\users\\qiuji\\anaconda3\\lib\\site-packages (from tensorboard<2.11,>=2.10->tensorflow==2.10.0) (3.3.4)\n",
      "Requirement already satisfied: pyparsing!=3.0.5,>=2.0.2 in c:\\users\\qiuji\\anaconda3\\lib\\site-packages (from packaging->tensorflow==2.10.0) (3.0.9)\n",
      "Requirement already satisfied: rsa<5,>=3.1.4 in c:\\users\\qiuji\\anaconda3\\lib\\site-packages (from google-auth<3,>=1.6.3->tensorboard<2.11,>=2.10->tensorflow==2.10.0) (4.9)\n",
      "Requirement already satisfied: cachetools<6.0,>=2.0.0 in c:\\users\\qiuji\\anaconda3\\lib\\site-packages (from google-auth<3,>=1.6.3->tensorboard<2.11,>=2.10->tensorflow==2.10.0) (5.3.1)\n",
      "Requirement already satisfied: pyasn1-modules>=0.2.1 in c:\\users\\qiuji\\anaconda3\\lib\\site-packages (from google-auth<3,>=1.6.3->tensorboard<2.11,>=2.10->tensorflow==2.10.0) (0.2.8)\n",
      "Requirement already satisfied: requests-oauthlib>=0.7.0 in c:\\users\\qiuji\\anaconda3\\lib\\site-packages (from google-auth-oauthlib<0.5,>=0.4.1->tensorboard<2.11,>=2.10->tensorflow==2.10.0) (1.3.1)\n",
      "Requirement already satisfied: charset-normalizer<3,>=2 in c:\\users\\qiuji\\anaconda3\\lib\\site-packages (from requests<3,>=2.21.0->tensorboard<2.11,>=2.10->tensorflow==2.10.0) (2.0.4)\n",
      "Requirement already satisfied: idna<4,>=2.5 in c:\\users\\qiuji\\anaconda3\\lib\\site-packages (from requests<3,>=2.21.0->tensorboard<2.11,>=2.10->tensorflow==2.10.0) (3.3)\n",
      "Requirement already satisfied: certifi>=2017.4.17 in c:\\users\\qiuji\\anaconda3\\lib\\site-packages (from requests<3,>=2.21.0->tensorboard<2.11,>=2.10->tensorflow==2.10.0) (2023.7.22)\n",
      "Requirement already satisfied: urllib3<1.27,>=1.21.1 in c:\\users\\qiuji\\anaconda3\\lib\\site-packages (from requests<3,>=2.21.0->tensorboard<2.11,>=2.10->tensorflow==2.10.0) (1.26.11)\n",
      "Requirement already satisfied: pyasn1<0.5.0,>=0.4.6 in c:\\users\\qiuji\\anaconda3\\lib\\site-packages (from pyasn1-modules>=0.2.1->google-auth<3,>=1.6.3->tensorboard<2.11,>=2.10->tensorflow==2.10.0) (0.4.8)\n",
      "Requirement already satisfied: oauthlib>=3.0.0 in c:\\users\\qiuji\\anaconda3\\lib\\site-packages (from requests-oauthlib>=0.7.0->google-auth-oauthlib<0.5,>=0.4.1->tensorboard<2.11,>=2.10->tensorflow==2.10.0) (3.2.2)\n"
     ]
    },
    {
     "name": "stderr",
     "output_type": "stream",
     "text": [
      "WARNING: Ignoring invalid distribution -umpy (c:\\users\\qiuji\\anaconda3\\lib\\site-packages)\n",
      "WARNING: Ignoring invalid distribution -rotobuf (c:\\users\\qiuji\\anaconda3\\lib\\site-packages)\n",
      "WARNING: Ignoring invalid distribution -umpy (c:\\users\\qiuji\\anaconda3\\lib\\site-packages)\n",
      "WARNING: Ignoring invalid distribution -rotobuf (c:\\users\\qiuji\\anaconda3\\lib\\site-packages)\n",
      "WARNING: Ignoring invalid distribution -umpy (c:\\users\\qiuji\\anaconda3\\lib\\site-packages)\n",
      "WARNING: Ignoring invalid distribution -rotobuf (c:\\users\\qiuji\\anaconda3\\lib\\site-packages)\n",
      "WARNING: Ignoring invalid distribution -umpy (c:\\users\\qiuji\\anaconda3\\lib\\site-packages)\n",
      "WARNING: Ignoring invalid distribution -rotobuf (c:\\users\\qiuji\\anaconda3\\lib\\site-packages)\n",
      "WARNING: Ignoring invalid distribution -umpy (c:\\users\\qiuji\\anaconda3\\lib\\site-packages)\n",
      "WARNING: Ignoring invalid distribution -rotobuf (c:\\users\\qiuji\\anaconda3\\lib\\site-packages)\n",
      "WARNING: Ignoring invalid distribution -umpy (c:\\users\\qiuji\\anaconda3\\lib\\site-packages)\n",
      "WARNING: Ignoring invalid distribution -rotobuf (c:\\users\\qiuji\\anaconda3\\lib\\site-packages)\n"
     ]
    }
   ],
   "source": [
    "import os\n",
    "import numpy as np\n",
    "import matplotlib.pyplot as plt\n",
    "import pandas as pd\n",
    "import tensorflow as tf\n",
    "import json\n",
    "\n",
    "from pandas.core.frame import DataFrame\n",
    "from collections import Counter\n",
    "from sklearn.metrics import *\n",
    "\n",
    "from tensorflow.keras.layers import *\n",
    "from tensorflow.keras.models import *\n",
    "from tensorflow.keras import backend as K\n",
    "from tensorflow.keras.preprocessing.sequence import pad_sequences\n",
    "from tensorflow.keras.preprocessing.text import Tokenizer\n",
    "from tensorflow.keras import regularizers\n",
    "from tensorflow.keras import Sequential\n",
    "\n",
    "\n",
    "from tensorflow.python.client import device_lib\n",
    "from tensorflow.python.keras.utils.np_utils import to_categorical"
   ]
  },
  {
   "cell_type": "code",
   "execution_count": 5,
   "id": "cf00252d",
   "metadata": {},
   "outputs": [],
   "source": [
    "# set the log device placement to true\n",
    "tf.debugging.set_log_device_placement(True)"
   ]
  },
  {
   "cell_type": "markdown",
   "id": "730c14c7",
   "metadata": {},
   "source": [
    "### Dataset analysis\n",
    "This part is used to analyze the dataset, specifically, the label distribution of the dataset. And print some examples of the dataset to show the data structure.\n",
    "This is important because the label distribution will affect the model training and validation, which can help us to choose the right evaluation metrics."
   ]
  },
  {
   "cell_type": "code",
   "execution_count": 4,
   "id": "29d57068",
   "metadata": {
    "ExecuteTime": {
     "end_time": "2024-03-05T18:27:20.857420300Z",
     "start_time": "2024-03-05T18:27:20.854071300Z"
    }
   },
   "outputs": [],
   "source": [
    "def path_join(file_name,dataset_path=\"../nyt_dataset\"):\n",
    "    \"\"\"This function is used to join the path of the dataset and the file name\"\"\"\n",
    "    final_path = os.path.join(dataset_path , file_name)\n",
    "    return final_path\n",
    "\n",
    "def label_distribution(data_File):\n",
    "    \"\"\"\n",
    "    This function is used to analyze the label distribution of the dataset\n",
    "    :param data_File: the path of the dataset\n",
    "    :return: the label distribution of the dataset\n",
    "    \"\"\"\n",
    "    df = pd.read_json(data_File,encoding=\"utf-8\", orient='records')\n",
    "    label=[df[\"relation_list\"][i][0][\"predicate\"] for i in range(df.shape[0])]\n",
    "    with open(path_join(\"rel2id.json\"),\"r\") as f:\n",
    "        rel2id = json.load(f)\n",
    "        id2rel = {k:v for k, v in rel2id.items()}\n",
    "        #num_classes = len(rel2id)\n",
    "    train_label = [id2rel[i] for i in label]\n",
    "    label_list = Counter(train_label)\n",
    "    label_list=sorted(label_list.items(),key=lambda x:x[0],reverse=False)\n",
    "    return label_list\n",
    "\n",
    "def plot_label_distribution(label_Set,types=\"Training\",figure_save_path=\"Data analysis\"):\n",
    "    \"\"\"\n",
    "    This function is used to plot the label distribution of the dataset\n",
    "    :param labelSet: the label set of the dataset \n",
    "    :param types: the type of the dataset\n",
    "    :param figure_save_path: the path to save the figure\n",
    "    \"\"\"\n",
    "    x_r = [i[0] for i in label_Set]\n",
    "    y_r = [i[1] for i in label_Set]\n",
    "    plt.xticks(x_r, x_r) \n",
    "    plt.bar(x_r, y_r)\n",
    "    plt.title(\"{} label distribution\".format(types))\n",
    "    if not os.path.exists(figure_save_path):\n",
    "        os.makedirs(figure_save_path)\n",
    "    plt.savefig(os.path.join(\"Data analysis\" , '{} labels distributions.jpg'.format(types)))\n",
    "    plt.show()"
   ]
  },
  {
   "cell_type": "code",
   "execution_count": 5,
   "id": "b76beddb",
   "metadata": {},
   "outputs": [
    {
     "data": {
      "image/png": "[encoded data removed]",
      "text/plain": [
       "<Figure size 640x480 with 1 Axes>"
      ]
     },
     "metadata": {},
     "output_type": "display_data"
    }
   ],
   "source": [
    "# plot the label distribution of the dataset\n",
    "tr_set = label_distribution(path_join(\"train_data.json\"))\n",
    "plot_label_distribution(tr_set)"
   ]
  },
  {
   "cell_type": "code",
   "execution_count": 6,
   "id": "2dfd7f7f",
   "metadata": {},
   "outputs": [
    {
     "data": {
      "image/png": "[encoded data removed]",
      "text/plain": [
       "<Figure size 640x480 with 1 Axes>"
      ]
     },
     "metadata": {},
     "output_type": "display_data"
    }
   ],
   "source": [
    "# plot the label distribution of the dataset\n",
    "test_set = label_distribution(path_join(\"valid_data.json\"))\n",
    "plot_label_distribution(test_set,\"validating\")"
   ]
  },
  {
   "cell_type": "code",
   "execution_count": 7,
   "id": "462a4924",
   "metadata": {},
   "outputs": [
    {
     "data": {
      "image/png": "[encoded data removed]",
      "text/plain": [
       "<Figure size 640x480 with 1 Axes>"
      ]
     },
     "metadata": {},
     "output_type": "display_data"
    }
   ],
   "source": [
    "# plot the label distribution of the dataset\n",
    "test_set = label_distribution(path_join(\"test_data.json\"))\n",
    "plot_label_distribution(test_set,\"Testing\")"
   ]
  },
  {
   "cell_type": "code",
   "execution_count": 8,
   "id": "748f0bcc",
   "metadata": {},
   "outputs": [
    {
     "name": "stdout",
     "output_type": "stream",
     "text": [
      "                                                    text           id  \\\n",
      "0      Massachusetts ASTON MAGNA Great Barrington ; a...      train_0   \n",
      "1      North Carolina EASTERN MUSIC FESTIVAL Greensbo...      train_1   \n",
      "2      It will be the final movie credited to Debra H...      train_2   \n",
      "3      In a 3-0 victory over the Crew on Saturday in ...      train_3   \n",
      "4      The United States ambassador to Mexico , Tony ...      train_4   \n",
      "...                                                  ...          ...   \n",
      "56191  Tanna 's big draw is Mount Yasur , one of the ...  train_56191   \n",
      "56192  We flew Air Pacific -LRB- 800-227-4446 ; www.a...  train_56192   \n",
      "56193  I think Westchester is changing , '' said Kenn...  train_56193   \n",
      "56194  Here we have a 172-acre island with four-star ...  train_56194   \n",
      "56195  One was for St. Francis de Sales Roman Catholi...  train_56195   \n",
      "\n",
      "                                           relation_list  \\\n",
      "0      [{'subject': 'Annandale-on-Hudson', 'object': ...   \n",
      "1      [{'subject': 'North Carolina', 'object': 'Gree...   \n",
      "2      [{'subject': 'Debra Hill', 'object': 'Haddonfi...   \n",
      "3      [{'subject': 'Ohio', 'object': 'Columbus', 'su...   \n",
      "4      [{'subject': 'Mexico', 'object': 'Nuevo Laredo...   \n",
      "...                                                  ...   \n",
      "56191  [{'subject': 'Tanna', 'object': 'Mount Yasur',...   \n",
      "56192  [{'subject': 'Vanuatu', 'object': 'Port Vila',...   \n",
      "56193  [{'subject': 'Kenneth T. Jackson', 'object': '...   \n",
      "56194  [{'subject': 'Ellis Island', 'object': 'Manhat...   \n",
      "56195  [{'subject': 'Belle Harbor', 'object': 'Queens...   \n",
      "\n",
      "                                             entity_list  \n",
      "0      [{'text': 'Annandale-on-Hudson', 'type': 'DEFA...  \n",
      "1      [{'text': 'North Carolina', 'type': 'DEFAULT',...  \n",
      "2      [{'text': 'Debra Hill', 'type': 'DEFAULT', 'ch...  \n",
      "3      [{'text': 'Ohio', 'type': 'DEFAULT', 'char_spa...  \n",
      "4      [{'text': 'Mexico', 'type': 'DEFAULT', 'char_s...  \n",
      "...                                                  ...  \n",
      "56191  [{'text': 'Tanna', 'type': 'DEFAULT', 'char_sp...  \n",
      "56192  [{'text': 'Vanuatu', 'type': 'DEFAULT', 'char_...  \n",
      "56193  [{'text': 'Kenneth T. Jackson', 'type': 'DEFAU...  \n",
      "56194  [{'text': 'Ellis Island', 'type': 'DEFAULT', '...  \n",
      "56195  [{'text': 'Belle Harbor', 'type': 'DEFAULT', '...  \n",
      "\n",
      "[56196 rows x 4 columns]\n"
     ]
    }
   ],
   "source": [
    "df = pd.read_json(path_join(\"train_data.json\"),encoding=\"utf-8\", orient='records')\n",
    "print(df)"
   ]
  },
  {
   "cell_type": "code",
   "execution_count": 9,
   "id": "6883e3dc",
   "metadata": {},
   "outputs": [
    {
     "name": "stdout",
     "output_type": "stream",
     "text": [
      "[{'text': 'Annandale-on-Hudson', 'type': 'DEFAULT', 'char_span': [68, 87], 'tok_span': [17, 24]}, {'text': 'Bard College', 'type': 'DEFAULT', 'char_span': [53, 65], 'tok_span': [13, 16]}]\n"
     ]
    }
   ],
   "source": [
    "print(df['entity_list'][0])"
   ]
  },
  {
   "cell_type": "code",
   "execution_count": 10,
   "id": "d870af31",
   "metadata": {},
   "outputs": [
    {
     "name": "stdout",
     "output_type": "stream",
     "text": [
      "[{'subject': 'Annandale-on-Hudson', 'object': 'Bard College', 'subj_char_span': [68, 87], 'obj_char_span': [53, 65], 'predicate': '/location/location/contains', 'subj_tok_span': [17, 24], 'obj_tok_span': [13, 16]}]\n"
     ]
    }
   ],
   "source": [
    "print(df['relation_list'][0])"
   ]
  },
  {
   "cell_type": "markdown",
   "id": "e73f227c",
   "metadata": {},
   "source": [
    "### Data preprocess\n",
    "This part is used to process the dataset, including the following steps:\n",
    "1. Tokenize the text data\n",
    "2. Process the label data\n",
    "3. Split the dataset into training, validating and testing dataset"
   ]
  },
  {
   "cell_type": "code",
   "execution_count": 14,
   "id": "1df48865",
   "metadata": {},
   "outputs": [],
   "source": [
    "# set the vocabulary size\n",
    "n_most_common_words =30000\n",
    "max_len = 100\n",
    "#tokenizer = Tokenizer(num_words=n_most_common_words, filters='!\"#$%&()*+,-./:;=?@[]^_`{|}~', lower=True)"
   ]
  },
  {
   "cell_type": "code",
   "execution_count": 15,
   "id": "9251caf7",
   "metadata": {},
   "outputs": [],
   "source": [
    "def data_process(train_file,valid_file,test_file):\n",
    "    \"\"\"\n",
    "    This function is used to process the dataset\n",
    "    :param train_file: the path of the training dataset \n",
    "    :param valid_file: the path of the validating dataset\n",
    "    :param test_file: the path of the testing dataset\n",
    "    :return: the training data, the training label, the validating data, the validating label, the testing data, the testing label\n",
    "    \"\"\"\n",
    "    #tf.debugging.set_log_device_placement(True)\n",
    "    relation_path = path_join(\"rel2id.json\")\n",
    "    df = pd.read_json(train_file,encoding=\"utf-8\", orient='records')\n",
    "    with open(relation_path,\"r\") as f:\n",
    "        rel2id = json.load(f)\n",
    "        id2rel = {k:v for k, v in rel2id.items()}\n",
    "        #num_classes = len(rel2id)\n",
    "        \n",
    "    # Tokenize the text data\n",
    "    tokenizer = Tokenizer(num_words=n_most_common_words, filters='!\"#$%&()*+,-./:;=?@[]^_`{|}~', lower=True)\n",
    "    tokenizer.fit_on_texts(df['text'].values)\n",
    "    #print(len(tokenizer.word_index) + 1)\n",
    "    \n",
    "    # Process the data\n",
    "    X_train = input_process(tokenizer,df,max_len)\n",
    "    label_train = label_process(df,id2rel)\n",
    "    \n",
    "    df_valid = pd.read_json(valid_file,encoding=\"utf-8\", orient='records')\n",
    "    X_valid = input_process(tokenizer,df_valid,max_len)\n",
    "    label_valid = label_process(df_valid,id2rel)\n",
    "    \n",
    "    df_test = pd.read_json(test_file,encoding=\"utf-8\", orient='records')\n",
    "    X_test = input_process(tokenizer,df_test,max_len)\n",
    "    label_test = label_process(df_test,id2rel)\n",
    "    \n",
    "    return X_train, label_train, X_valid, label_valid, X_test, label_test, tokenizer\n",
    "\n",
    "\n",
    "def input_process(tokenizer,df,max_len):\n",
    "    \"\"\"\n",
    "    This function is used to process the input data\n",
    "    :param tokenizer: the tokenizer\n",
    "    :param df: the dataset\n",
    "    :param max_len: the maximum length of the sentence\n",
    "    :return:  the processed input data\n",
    "    \"\"\"\n",
    "    sequences = tokenizer.texts_to_sequences(df['text'].values)\n",
    "    #word_index = tokenizer.word_index\n",
    "    X = pad_sequences(sequences, maxlen=max_len)\n",
    "    return X\n",
    "\n",
    "def label_process(df_object,relate_label):\n",
    "    \"\"\"\n",
    "    This function is used to process the label data\n",
    "    :param df_object: the dataset\n",
    "    :param relate_label: the label set\n",
    "    :return: the processed label data\n",
    "    \"\"\"\n",
    "    label=[df_object[\"relation_list\"][i][0][\"predicate\"] for i in range(df_object.shape[0])]\n",
    "    train_label = [relate_label[i] for i in label]\n",
    "    labels=DataFrame(train_label)\n",
    "    labels = to_categorical(labels, num_classes=24)\n",
    "    return labels\n",
    "    "
   ]
  },
  {
   "cell_type": "code",
   "execution_count": 16,
   "id": "32f9a37b",
   "metadata": {},
   "outputs": [],
   "source": [
    "# process the dataset before training\n",
    "X_train, y_train, X_validation, y_validation,X_test,y_test,tokenizer = data_process(path_join(\"train_data.json\"),path_join(\"valid_data.json\"),path_join(\"test_data.json\"))"
   ]
  },
  {
   "cell_type": "code",
   "execution_count": 15,
   "id": "33ba8330",
   "metadata": {},
   "outputs": [
    {
     "name": "stdout",
     "output_type": "stream",
     "text": [
      "[    0     0     0     0     0     0     0     0     0     0     0     0\n",
      "     0     0     0     0     0     0     0     0     0     0     0     0\n",
      "     0     0     0     0     0     0     0     0     0     0     0     0\n",
      "     0     0     0     0     0     0     0     0     0     0     0     0\n",
      "     0     0     0     0     0     0     0     0     0     0     0     0\n",
      "     0     0     0     0     0     0     0     0     0     0     0     0\n",
      "     0     0     0     0     0     0     0     0     0     0     0   325\n",
      " 10828  9306   348 10829    77    12  3733   187  4229    11   678   107\n",
      "   275   406   117  1034]\n"
     ]
    }
   ],
   "source": [
    "print(X_train[0])"
   ]
  },
  {
   "cell_type": "code",
   "execution_count": 27,
   "id": "be7b89b4",
   "metadata": {},
   "outputs": [
    {
     "data": {
      "text/plain": [
       "(56196, 24)"
      ]
     },
     "execution_count": 27,
     "metadata": {},
     "output_type": "execute_result"
    }
   ],
   "source": [
    "y_train.shape"
   ]
  },
  {
   "cell_type": "markdown",
   "id": "d4194a38",
   "metadata": {},
   "source": [
    "### Model generation\n",
    "This part is used to generate and train the model. The model is a Bi-LSTM model with attention mechanism. \n",
    "Originally, the model is trained without the attention mechanism, but the accuracy is not good. For improving the accuracy, we add the attention mechanism to the model."
   ]
  },
  {
   "cell_type": "code",
   "execution_count": 19,
   "id": "b53e5398",
   "metadata": {
    "ExecuteTime": {
     "end_time": "2024-03-05T17:19:53.647477600Z",
     "start_time": "2024-03-05T17:19:53.631144600Z"
    }
   },
   "outputs": [],
   "source": [
    "# define the attention layer \n",
    "class attention(Layer):\n",
    "    \"\"\"\n",
    "    This class is used to define the attention mechanism(layer)\n",
    "    \"\"\"\n",
    "    def __init__(self, return_sequences=True,**kwargs):\n",
    "        self.return_sequences = return_sequences\n",
    "        super(attention,self).__init__()\n",
    "        \n",
    "    def build(self, input_shape):\n",
    "        \"\"\"\n",
    "        This function is used to build the attention mechanism\n",
    "        :param input_shape: the input shape\n",
    "        :return: the attention layer\n",
    "        \"\"\"\n",
    "        self.W=self.add_weight(name=\"att_weight\", shape=(input_shape[-1],1),\n",
    "                               initializer=\"normal\")\n",
    "        self.b=self.add_weight(name=\"att_bias\", shape=(input_shape[1],1),\n",
    "                               initializer=\"zeros\")\n",
    "        super(attention,self).build(input_shape)\n",
    "        \n",
    "    def call(self, x):\n",
    "        \"\"\"\n",
    "        This function is used to call the attention mechanism\n",
    "        :param x: the input data\n",
    "        :return: the output data\n",
    "        \"\"\"\n",
    "        e = K.tanh(K.dot(x,self.W)+self.b)\n",
    "        a = K.softmax(e, axis=1)\n",
    "        output = x*a\n",
    "        \n",
    "        if self.return_sequences:\n",
    "            return output\n",
    "        \n",
    "        return K.sum(output, axis=1)\n",
    "    \n",
    "    def get_config(self):\n",
    "        \"\"\"\n",
    "        This function is used to get the configuration of the attention mechanism\n",
    "        :return: the configuration of the attention mechanism\n",
    "        \"\"\"\n",
    "        config = super().get_config().copy()\n",
    "        config.update({\n",
    "            \"return_sequences\" : self.return_sequences,\n",
    "        })\n",
    "        return config\n",
    "\n",
    "# initialize the weights for generating the model\n",
    "initializer = tf.keras.initializers.RandomNormal(mean=0., stddev=1.)\n",
    "def generate_model(embedding_size, n_most_common_words, output, learning_rate):\n",
    "    \"\"\"\n",
    "    This function is used to generate the model\n",
    "    :param embedding_size: the size of the embedding layer\n",
    "    :param n_most_common_words: the vocabulary size\n",
    "    :param output: the output size\n",
    "    :param learning_rate: the learning rate\n",
    "    :return: the model\n",
    "    \"\"\"\n",
    "    model = Sequential()\n",
    "    model.add(Embedding(n_most_common_words, embedding_size, input_length=X_train.shape[1]))\n",
    "    model.add(Bidirectional(LSTM(output, dropout=0.7, recurrent_dropout=0.7,return_sequences=True)))\n",
    "    model.add(attention(return_sequences=False))\n",
    "    model.add(Dense(y_train.shape[1], activation='softmax',kernel_initializer=initializer,kernel_regularizer=regularizers.l2(0.001)))\n",
    "    model.compile(tf.keras.optimizers.Adam(lr = learning_rate),loss='categorical_crossentropy', metrics=['acc']) #categorical_crossentropy\n",
    "    print(model.summary())\n",
    "    return model"
   ]
  },
  {
   "cell_type": "code",
   "execution_count": 50,
   "id": "02294812",
   "metadata": {},
   "outputs": [
    {
     "name": "stdout",
     "output_type": "stream",
     "text": [
      "WARNING:tensorflow:Layer lstm_2 will not use cuDNN kernels since it doesn't meet the criteria. It will use a generic GPU kernel as fallback when running on GPU.\n",
      "WARNING:tensorflow:Layer lstm_2 will not use cuDNN kernels since it doesn't meet the criteria. It will use a generic GPU kernel as fallback when running on GPU.\n",
      "WARNING:tensorflow:Layer lstm_2 will not use cuDNN kernels since it doesn't meet the criteria. It will use a generic GPU kernel as fallback when running on GPU.\n",
      "Model: \"sequential_3\"\n",
      "_________________________________________________________________\n",
      " Layer (type)                Output Shape              Param #   \n",
      "=================================================================\n",
      " embedding_2 (Embedding)     (None, 100, 100)          3000000   \n",
      "                                                                 \n",
      " bidirectional_2 (Bidirectio  (None, 100, 240)         212160    \n",
      " nal)                                                            \n",
      "                                                                 \n",
      " attention_3 (attention)     (None, 240)               340       \n",
      "                                                                 \n",
      " dense_2 (Dense)             (None, 24)                5784      \n",
      "                                                                 \n",
      "=================================================================\n",
      "Total params: 3,218,284\n",
      "Trainable params: 3,218,284\n",
      "Non-trainable params: 0\n",
      "_________________________________________________________________\n",
      "None\n"
     ]
    }
   ],
   "source": [
    "# generate the model\n",
    "model = generate_model(100,n_most_common_words,120,0.0005)"
   ]
  },
  {
   "cell_type": "code",
   "execution_count": 36,
   "id": "6a0c0fd7",
   "metadata": {},
   "outputs": [],
   "source": [
    "os.environ[\"TF_FORCE_GPU_ALLOW_GROWTH\"] = \"true\" # allow the GPU memory to grow for training the model"
   ]
  },
  {
   "cell_type": "code",
   "execution_count": 37,
   "id": "6d343a08",
   "metadata": {},
   "outputs": [
    {
     "name": "stdout",
     "output_type": "stream",
     "text": [
      "True\n",
      "[PhysicalDevice(name='/physical_device:GPU:0', device_type='GPU')]\n",
      "[name: \"/device:CPU:0\"\n",
      "device_type: \"CPU\"\n",
      "memory_limit: 268435456\n",
      "locality {\n",
      "}\n",
      "incarnation: 4848012800028890172\n",
      "xla_global_id: -1\n",
      ", name: \"/device:GPU:0\"\n",
      "device_type: \"GPU\"\n",
      "memory_limit: 5717884928\n",
      "locality {\n",
      "  bus_id: 1\n",
      "  links {\n",
      "  }\n",
      "}\n",
      "incarnation: 13882482248138388141\n",
      "physical_device_desc: \"device: 0, name: NVIDIA GeForce RTX 4060 Laptop GPU, pci bus id: 0000:01:00.0, compute capability: 8.9\"\n",
      "xla_global_id: 416903419\n",
      "]\n"
     ]
    }
   ],
   "source": [
    "# check the GPU status and the device list\n",
    "print(tf.test.is_built_with_cuda())\n",
    "gpus = tf.config.experimental.list_physical_devices(device_type='GPU')\n",
    "print(gpus)\n",
    "print(device_lib.list_local_devices())"
   ]
  },
  {
   "cell_type": "markdown",
   "id": "9fc3dc0d",
   "metadata": {},
   "source": [
    "### Model training and validation"
   ]
  },
  {
   "cell_type": "code",
   "execution_count": 51,
   "id": "72cb3106",
   "metadata": {},
   "outputs": [
    {
     "name": "stdout",
     "output_type": "stream",
     "text": [
      "Epoch 1/10\n",
      "440/440 [==============================] - 334s 752ms/step - loss: 6.4279 - acc: 0.6004 - val_loss: 5.2840 - val_acc: 0.6762\n",
      "Epoch 2/10\n",
      "440/440 [==============================] - 334s 760ms/step - loss: 4.5202 - acc: 0.7152 - val_loss: 3.9681 - val_acc: 0.7016\n",
      "Epoch 3/10\n",
      "440/440 [==============================] - 332s 755ms/step - loss: 3.3516 - acc: 0.7587 - val_loss: 3.0593 - val_acc: 0.7156\n",
      "Epoch 4/10\n",
      "440/440 [==============================] - 329s 747ms/step - loss: 2.5220 - acc: 0.7917 - val_loss: 2.4477 - val_acc: 0.7254\n",
      "Epoch 5/10\n",
      "440/440 [==============================] - 331s 753ms/step - loss: 1.9194 - acc: 0.8192 - val_loss: 2.0462 - val_acc: 0.7226\n",
      "Epoch 6/10\n",
      "440/440 [==============================] - 329s 747ms/step - loss: 1.4772 - acc: 0.8364 - val_loss: 1.7189 - val_acc: 0.7192\n",
      "Epoch 7/10\n",
      "440/440 [==============================] - 330s 750ms/step - loss: 1.1550 - acc: 0.8534 - val_loss: 1.5059 - val_acc: 0.7260\n",
      "Epoch 8/10\n",
      "440/440 [==============================] - 331s 751ms/step - loss: 0.9255 - acc: 0.8647 - val_loss: 1.3973 - val_acc: 0.7192\n",
      "Epoch 9/10\n",
      "440/440 [==============================] - 328s 745ms/step - loss: 0.7453 - acc: 0.8784 - val_loss: 1.2581 - val_acc: 0.7192\n",
      "Epoch 10/10\n",
      "440/440 [==============================] - 330s 751ms/step - loss: 0.6262 - acc: 0.8843 - val_loss: 1.1954 - val_acc: 0.7184\n"
     ]
    },
    {
     "data": {
      "text/plain": [
       "<keras.callbacks.History at 0x2a7db7690a0>"
      ]
     },
     "execution_count": 51,
     "metadata": {},
     "output_type": "execute_result"
    }
   ],
   "source": [
    "# train the model\n",
    "model.fit(X_train, y_train, epochs=10, batch_size=128, validation_data = (X_validation, y_validation),workers=4)\n",
    "#model.fit(X_train, y_train, epochs=1, batch_size=128, validation_data = (X_validation, y_validation),workers=4)"
   ]
  },
  {
   "cell_type": "code",
   "execution_count": 52,
   "id": "451f1c3a",
   "metadata": {},
   "outputs": [],
   "source": [
    "if not os.path.exists('../trained_model'):\n",
    "        os.makedirs('../trained_model')\n",
    "#model.save_weights(r'../trained_model/attention30k_100_120_5e-4.h5')\n",
    "model.save(r'../trained_model/BiLSTM_with_attention.h5')\n",
    "#model.save(r'model_data/attention_test.h5')"
   ]
  },
  {
   "cell_type": "markdown",
   "id": "66c5a6ac",
   "metadata": {},
   "source": [
    "### Training and validation analysis\n",
    "Draw the accuracy curve and loss curve corresponding to the training set and validation set"
   ]
  },
  {
   "cell_type": "code",
   "execution_count": 54,
   "id": "5a570736",
   "metadata": {},
   "outputs": [],
   "source": [
    "def show_train_history(train_history,train_metrics,val_metrics,figure_save_path=\"../result\"):\n",
    "    \"\"\"\n",
    "    This function is used to show the training history\n",
    "    :param train_history: the training history\n",
    "    :param train_metrics: the confusion matrix of the training set\n",
    "    :param val_metrics: the confusion matrix of the validation set\n",
    "    :param figure_save_path: the path to save the figure\n",
    "    \"\"\"\n",
    "    plt.plot(train_history[train_metrics])\n",
    "    plt.plot(train_history[val_metrics])\n",
    "    plt.title('Train History')\n",
    "    plt.ylabel(train_metrics)\n",
    "    plt.xlabel('epoch')\n",
    "    plt.legend(['train','validation'],loc='upper left')\n",
    "    if not os.path.exists(figure_save_path):\n",
    "        os.makedirs(figure_save_path)\n",
    "    plt.savefig(os.path.join(figure_save_path , './{}{}.jpg'.format(train_metrics,0.0005)))\n",
    "    plt.savefig()\n",
    "    plt.show()\n"
   ]
  },
  {
   "cell_type": "code",
   "execution_count": null,
   "id": "a1d51913",
   "metadata": {},
   "outputs": [],
   "source": [
    "# draw the accuracy curve and loss curve corresponding to the training set and validation set\n",
    "show_train_history(model.history.history,'loss','val_loss')"
   ]
  },
  {
   "cell_type": "code",
   "execution_count": 37,
   "id": "2ccb557a",
   "metadata": {},
   "outputs": [
    {
     "data": {
      "image/png": "[encoded data removed]",
      "text/plain": [
       "<Figure size 640x480 with 1 Axes>"
      ]
     },
     "metadata": {},
     "output_type": "display_data"
    }
   ],
   "source": [
    "# draw the accuracy curve and loss curve corresponding to the training set and validation set\n",
    "show_train_history(model.history.history,'acc','val_acc')"
   ]
  },
  {
   "cell_type": "markdown",
   "id": "78907a48",
   "metadata": {},
   "source": [
    "### Model testing"
   ]
  },
  {
   "cell_type": "code",
   "execution_count": 84,
   "id": "507af5ec",
   "metadata": {},
   "outputs": [
    {
     "name": "stdout",
     "output_type": "stream",
     "text": [
      "157/157 [==============================] - 12s 73ms/step\n"
     ]
    }
   ],
   "source": [
    "# predict the testing set\n",
    "prediction_probas = model.predict(X_test) "
   ]
  },
  {
   "cell_type": "code",
   "execution_count": 85,
   "id": "e596bb0d",
   "metadata": {},
   "outputs": [
    {
     "name": "stdout",
     "output_type": "stream",
     "text": [
      "[[   0    0    0    0    0    3    0    0    0    0    0    0    0    0\n",
      "     0    0    0    0    0    0]\n",
      " [   0    1    0    0    0   22    0    0    0    4    0    0    0    0\n",
      "     0    0    2    0    0    0]\n",
      " [   0    0    0    0    0    8    0    0    0    3    0    0    0    0\n",
      "     1    0    0    0    0    0]\n",
      " [   0    0    0    6    0    2    1    0    1   18    0    0    0    0\n",
      "     0    1    0    0    0    0]\n",
      " [   0    0    0    0    0   12    0    0    0    0    0    0    0    0\n",
      "     1    0    0    0    0    0]\n",
      " [   0    1    0    0    0  300    0    0    2   37    0    0    0    0\n",
      "     7   12    1    0    0    0]\n",
      " [   0    0    0    0    0    1   46    0    6   86    0    0    0    0\n",
      "    16    1    0    0    0    0]\n",
      " [   0    0    0    0    0    1   43    0    8   74    0    0    0    0\n",
      "    12    4    0    0    0    0]\n",
      " [   0    0    0    0    0    1   12    0   49  171    0    1    0    0\n",
      "    30    2    2    0    0    0]\n",
      " [   0    0    0    2    0   18   36    1   42 2373   20    0    0    0\n",
      "    43   53    2    0    0    0]\n",
      " [   0    0    0    0    0    2    1    0    0  145   19    0    0    0\n",
      "     0    3    0    0    0    0]\n",
      " [   0    0    0    0    0    5    2    0    1   26    0    7    0    0\n",
      "     7   16    4    0    0    0]\n",
      " [   0    0    0    0    0    0    0    0    0    1    0    0    0    0\n",
      "     0    0    0    0    0    0]\n",
      " [   0    0    0    0    0    6    0    0    0    8    0    0    0    9\n",
      "     3    4    1    0    0    0]\n",
      " [   0    0    0    0    0    6    3    0    1   67    0    2    0    0\n",
      "   367    4    3    0    0    0]\n",
      " [   0    0    0    0    0   12    1    0    2   96    1    4    0    0\n",
      "    10  363    4    0    0    0]\n",
      " [   0    0    0    0    0    9    2    0    3   68    0    5    0    0\n",
      "    16   45   12    0    0    0]\n",
      " [   0    0    0    0    0    0    0    0    0    4    0    0    0    0\n",
      "     0    0    1    0    0    0]\n",
      " [   0    0    0    0    0    0    0    0    0    2    0    0    0    0\n",
      "     0    1    0    0    0    1]\n",
      " [   0    0    0    0    0    0    0    0    0    9    0    0    0    0\n",
      "     0    3    1    0    0    0]]\n",
      "              precision    recall  f1-score   support\n",
      "\n",
      "           0      0.000     0.000     0.000         3\n",
      "           1      0.500     0.034     0.065        29\n",
      "           3      0.000     0.000     0.000        12\n",
      "           4      0.750     0.207     0.324        29\n",
      "           5      0.000     0.000     0.000        13\n",
      "           6      0.735     0.833     0.781       360\n",
      "           7      0.313     0.295     0.304       156\n",
      "           8      0.000     0.000     0.000       142\n",
      "           9      0.426     0.183     0.256       268\n",
      "          10      0.743     0.916     0.821      2590\n",
      "          11      0.475     0.112     0.181       170\n",
      "          12      0.368     0.103     0.161        68\n",
      "          14      0.000     0.000     0.000         1\n",
      "          15      1.000     0.290     0.450        31\n",
      "          17      0.715     0.810     0.760       453\n",
      "          18      0.709     0.736     0.722       493\n",
      "          19      0.364     0.075     0.124       160\n",
      "          21      0.000     0.000     0.000         5\n",
      "          22      0.000     0.000     0.000         4\n",
      "          23      0.000     0.000     0.000        13\n",
      "\n",
      "    accuracy                          0.710      5000\n",
      "   macro avg      0.355     0.230     0.247      5000\n",
      "weighted avg      0.652     0.710     0.662      5000\n"
     ]
    },
    {
     "name": "stderr",
     "output_type": "stream",
     "text": [
      "C:\\Users\\qiuji\\anaconda3\\lib\\site-packages\\sklearn\\metrics\\_classification.py:1318: UndefinedMetricWarning: Precision and F-score are ill-defined and being set to 0.0 in labels with no predicted samples. Use `zero_division` parameter to control this behavior.\n",
      "  _warn_prf(average, modifier, msg_start, len(result))\n",
      "C:\\Users\\qiuji\\anaconda3\\lib\\site-packages\\sklearn\\metrics\\_classification.py:1318: UndefinedMetricWarning: Precision and F-score are ill-defined and being set to 0.0 in labels with no predicted samples. Use `zero_division` parameter to control this behavior.\n",
      "  _warn_prf(average, modifier, msg_start, len(result))\n",
      "C:\\Users\\qiuji\\anaconda3\\lib\\site-packages\\sklearn\\metrics\\_classification.py:1318: UndefinedMetricWarning: Precision and F-score are ill-defined and being set to 0.0 in labels with no predicted samples. Use `zero_division` parameter to control this behavior.\n",
      "  _warn_prf(average, modifier, msg_start, len(result))\n"
     ]
    }
   ],
   "source": [
    "# calculate the confusion matrix and classification report\n",
    "predictions = [np.argmax(pred) for pred in prediction_probas]\n",
    "digit_y = [np.argmax(i)for i in y_test]\n",
    "print(confusion_matrix(digit_y, predictions)) #from sklearn.metrics\n",
    "print(classification_report(digit_y, predictions, digits=3))"
   ]
  },
  {
   "cell_type": "markdown",
   "id": "8e364689e24666ab",
   "metadata": {},
   "source": [
    "#### Draw the heat-map of the confusion matrix"
   ]
  },
  {
   "cell_type": "code",
   "execution_count": 41,
   "id": "910caf97",
   "metadata": {},
   "outputs": [],
   "source": [
    "import seaborn as sns"
   ]
  },
  {
   "cell_type": "code",
   "execution_count": 87,
   "id": "c6b782f3",
   "metadata": {},
   "outputs": [
    {
     "data": {
      "image/png": "[encoded data removed]",
      "text/plain": [
       "<Figure size 640x480 with 2 Axes>"
      ]
     },
     "metadata": {},
     "output_type": "display_data"
    }
   ],
   "source": [
    "# draw the heat-map of the confusion matrix\n",
    "text_str=[]\n",
    "data = confusion_matrix(digit_y, predictions)\n",
    "for i in range(20):\n",
    "  x=[]\n",
    "  for j in range(20):\n",
    "    x.append(str(data[i][j]))\n",
    "  text_str.append(x)\n",
    "ax = sns.heatmap(data, cmap='RdYlGn',vmin=0, vmax=5**3, annot=text_str,fmt=\"\")\n",
    "\n",
    "xxx = [i for i in range(20)]\n",
    "xxxs = [str(i) for i in range(20)]\n",
    "plt.xticks(xxx,xxxs,rotation=45)\n",
    "plt.yticks(xxx,('0','1','3','4','5','6','7','8','9','10','11','12','14','15','17','18','19','21','22','23'),rotation=45)\n",
    "\n",
    "#We are imagining that the squares in the heat-map are function values corresponding to domain points, [20,40,60,80]x[100,200,300]\n",
    "plt.title(\"Heatmap Plot Title\")\n",
    "plt.xlabel(\"X-axis Labels\")\n",
    "plt.ylabel(\"Y-axes Labels\")\n",
    "figure_save_path=\"Train_results\"\n",
    "if not os.path.exists(figure_save_path):\n",
    "        os.makedirs(figure_save_path)\n",
    "plt.savefig(os.path.join(figure_save_path , \"HeatMap.jpg\"))\n",
    "plt.show()\n"
   ]
  },
  {
   "cell_type": "markdown",
   "id": "85b34fbf",
   "metadata": {},
   "source": [
    "### Predictor: Use the following predictor() to predict any sentence you want."
   ]
  },
  {
   "cell_type": "code",
   "execution_count": 17,
   "id": "4f8eb765",
   "metadata": {},
   "outputs": [],
   "source": [
    "def predict_new_sentence(model,tokenizer,sentence):\n",
    "    \"\"\"\n",
    "    This function is used to predict the relation of the sentence\n",
    "    :param model: trained model\n",
    "    :param tokenizer: the tokenizer \n",
    "    :param sentence: input sentence \n",
    "    :return: the relation of the sentence\n",
    "    \"\"\"\n",
    "    x_tokens = sentence_process(tokenizer,sentence,100)\n",
    "    vec = model.predict(x_tokens)\n",
    "    prediction = [np.argmax(pred) for pred in vec]\n",
    "    result = num_to_label(prediction)\n",
    "    return result\n",
    "    \n",
    "def sentence_process(tokenizer,sentence,max_len):\n",
    "    \"\"\"\n",
    "    This function is used to process the input sentence\n",
    "    :param tokenizer: pointed tokenizer\n",
    "    :param sentence: input sentence\n",
    "    :param max_len: the maximum length of the sentence \n",
    "    :return: the processed input sentence\n",
    "    \"\"\"\n",
    "    sequences = tokenizer.texts_to_sequences(sentence)\n",
    "    X = pad_sequences(sequences, maxlen=max_len)\n",
    "    return X\n",
    "\n",
    "def num_to_label(number):\n",
    "    \"\"\"\n",
    "    This function is used to convert the number to the relation\n",
    "    :param number: the encoded number of the relation\n",
    "    :return: the encoded relation\n",
    "    \"\"\"\n",
    "    with open(path_join(\"rel2id.json\"),\"r\") as f:\n",
    "        rel2id = json.load(f)\n",
    "        t = {k:v for v, k in rel2id.items()}\n",
    "    pred_label = [t[i] for i in number]\n",
    "    return  pred_label"
   ]
  },
  {
   "cell_type": "code",
   "execution_count": 20,
   "id": "c2040d15",
   "metadata": {},
   "outputs": [
    {
     "name": "stdout",
     "output_type": "stream",
     "text": [
      "WARNING:tensorflow:Layer lstm_2 will not use cuDNN kernels since it doesn't meet the criteria. It will use a generic GPU kernel as fallback when running on GPU.\n",
      "WARNING:tensorflow:Layer lstm_2 will not use cuDNN kernels since it doesn't meet the criteria. It will use a generic GPU kernel as fallback when running on GPU.\n",
      "WARNING:tensorflow:Layer lstm_2 will not use cuDNN kernels since it doesn't meet the criteria. It will use a generic GPU kernel as fallback when running on GPU.\n",
      "1/1 [==============================] - 3s 3s/step\n",
      "['/location/location/contains', '/location/location/contains']\n"
     ]
    }
   ],
   "source": [
    "# load the model\n",
    "model_load = tf.keras.models.load_model(r'../trained_model/BiLSTM_with_attention.h5',custom_objects={'attention':attention})\n",
    "# predict the relation of an example sentence\n",
    "#tokenizer = Tokenizer(num_words=n_most_common_words, filters='!\"#$%&()*+,-./:;=?@[]^_`{|}~', lower=True)\n",
    "\n",
    "t1 = predict_new_sentence(model_load,tokenizer,[\"Jame go home.\",\"Dan went to hotel.\"])\n",
    "print(t1)"
   ]
  },
  {
   "cell_type": "code",
   "execution_count": null,
   "id": "17d73f9c",
   "metadata": {},
   "outputs": [],
   "source": []
  }
 ],
 "metadata": {
  "kernelspec": {
   "display_name": "Python 3 (ipykernel)",
   "language": "python",
   "name": "python3"
  },
  "language_info": {
   "codemirror_mode": {
    "name": "ipython",
    "version": 3
   },
   "file_extension": ".py",
   "mimetype": "text/x-python",
   "name": "python",
   "nbconvert_exporter": "python",
   "pygments_lexer": "ipython3",
   "version": "3.9.13"
  }
 },
 "nbformat": 4,
 "nbformat_minor": 5
}
